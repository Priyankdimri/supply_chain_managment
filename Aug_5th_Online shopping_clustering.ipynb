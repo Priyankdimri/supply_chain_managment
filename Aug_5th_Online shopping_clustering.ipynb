{
 "cells": [
  {
   "cell_type": "code",
   "execution_count": null,
   "id": "33ed9e09",
   "metadata": {},
   "outputs": [],
   "source": [
    "# Aug 5th_online shopping"
   ]
  },
  {
   "cell_type": "code",
   "execution_count": null,
   "id": "7eb141fb",
   "metadata": {},
   "outputs": [],
   "source": [
    "(1)Clustering- grouping the customer--- buying pattern\n",
    "Recency,Frequency,Monetary.\n",
    "(2)Identify the business trend-- day,month,season,timing...\n",
    "(3)Recommendation engine-- \n",
    "(4)Life time valuation of the customer.."
   ]
  },
  {
   "cell_type": "code",
   "execution_count": 1,
   "id": "6ba98a36",
   "metadata": {},
   "outputs": [],
   "source": [
    "import pandas as pd\n",
    "import numpy as np\n",
    "import matplotlib.pyplot as plt\n",
    "import seaborn as sns\n",
    "import warnings\n",
    "warnings.filterwarnings(\"ignore\")"
   ]
  },
  {
   "cell_type": "code",
   "execution_count": 2,
   "id": "8ac06eea",
   "metadata": {},
   "outputs": [],
   "source": [
    "original_data=pd.read_excel(\"Online_shopping.xlsx\")"
   ]
  },
  {
   "cell_type": "code",
   "execution_count": 4,
   "id": "17f1650b",
   "metadata": {},
   "outputs": [
    {
     "data": {
      "text/html": [
       "<div>\n",
       "<style scoped>\n",
       "    .dataframe tbody tr th:only-of-type {\n",
       "        vertical-align: middle;\n",
       "    }\n",
       "\n",
       "    .dataframe tbody tr th {\n",
       "        vertical-align: top;\n",
       "    }\n",
       "\n",
       "    .dataframe thead th {\n",
       "        text-align: right;\n",
       "    }\n",
       "</style>\n",
       "<table border=\"1\" class=\"dataframe\">\n",
       "  <thead>\n",
       "    <tr style=\"text-align: right;\">\n",
       "      <th></th>\n",
       "      <th>InvoiceNo</th>\n",
       "      <th>StockCode</th>\n",
       "      <th>lower</th>\n",
       "      <th>Description</th>\n",
       "      <th>Quantity</th>\n",
       "      <th>InvoiceDate</th>\n",
       "      <th>UnitPrice</th>\n",
       "      <th>CustomerID</th>\n",
       "      <th>Country</th>\n",
       "    </tr>\n",
       "  </thead>\n",
       "  <tbody>\n",
       "    <tr>\n",
       "      <th>0</th>\n",
       "      <td>536365</td>\n",
       "      <td>85123A</td>\n",
       "      <td>white hanging heart t-light holder</td>\n",
       "      <td>WHITE HANGING HEART T-LIGHT HOLDER</td>\n",
       "      <td>6</td>\n",
       "      <td>2010-12-01 08:26:00</td>\n",
       "      <td>2.55</td>\n",
       "      <td>17850.0</td>\n",
       "      <td>United Kingdom</td>\n",
       "    </tr>\n",
       "    <tr>\n",
       "      <th>1</th>\n",
       "      <td>536365</td>\n",
       "      <td>71053</td>\n",
       "      <td>white metal lantern</td>\n",
       "      <td>WHITE METAL LANTERN</td>\n",
       "      <td>6</td>\n",
       "      <td>2010-12-01 08:26:00</td>\n",
       "      <td>3.39</td>\n",
       "      <td>17850.0</td>\n",
       "      <td>United Kingdom</td>\n",
       "    </tr>\n",
       "  </tbody>\n",
       "</table>\n",
       "</div>"
      ],
      "text/plain": [
       "  InvoiceNo StockCode                               lower  \\\n",
       "0    536365    85123A  white hanging heart t-light holder   \n",
       "1    536365     71053                 white metal lantern   \n",
       "\n",
       "                          Description  Quantity         InvoiceDate  \\\n",
       "0  WHITE HANGING HEART T-LIGHT HOLDER         6 2010-12-01 08:26:00   \n",
       "1                 WHITE METAL LANTERN         6 2010-12-01 08:26:00   \n",
       "\n",
       "   UnitPrice  CustomerID         Country  \n",
       "0       2.55     17850.0  United Kingdom  \n",
       "1       3.39     17850.0  United Kingdom  "
      ]
     },
     "execution_count": 4,
     "metadata": {},
     "output_type": "execute_result"
    }
   ],
   "source": [
    "df=original_data.copy()\n",
    "df.head(2)"
   ]
  },
  {
   "cell_type": "code",
   "execution_count": 5,
   "id": "55301b12",
   "metadata": {},
   "outputs": [
    {
     "name": "stdout",
     "output_type": "stream",
     "text": [
      "<class 'pandas.core.frame.DataFrame'>\n",
      "RangeIndex: 541909 entries, 0 to 541908\n",
      "Data columns (total 9 columns):\n",
      " #   Column       Non-Null Count   Dtype         \n",
      "---  ------       --------------   -----         \n",
      " 0   InvoiceNo    541909 non-null  object        \n",
      " 1   StockCode    541909 non-null  object        \n",
      " 2   lower        1816 non-null    object        \n",
      " 3   Description  540455 non-null  object        \n",
      " 4   Quantity     541909 non-null  int64         \n",
      " 5   InvoiceDate  541909 non-null  datetime64[ns]\n",
      " 6   UnitPrice    541909 non-null  float64       \n",
      " 7   CustomerID   406829 non-null  float64       \n",
      " 8   Country      541909 non-null  object        \n",
      "dtypes: datetime64[ns](1), float64(2), int64(1), object(5)\n",
      "memory usage: 37.2+ MB\n"
     ]
    }
   ],
   "source": [
    "df.info()"
   ]
  },
  {
   "cell_type": "markdown",
   "id": "5e63c061",
   "metadata": {},
   "source": [
    "(1)Clustering- grouping the customer--- buying pattern\n",
    "Recency,Frequency,Monetary."
   ]
  },
  {
   "cell_type": "code",
   "execution_count": 8,
   "id": "33d59a1c",
   "metadata": {},
   "outputs": [],
   "source": [
    "#df[\"Country\"].value_counts(normalize=True)"
   ]
  },
  {
   "cell_type": "code",
   "execution_count": null,
   "id": "f0f4b875",
   "metadata": {},
   "outputs": [],
   "source": [
    "# to solve the first problem statement -- only keep the reqiored columns"
   ]
  },
  {
   "cell_type": "code",
   "execution_count": 9,
   "id": "952c7fbd",
   "metadata": {},
   "outputs": [],
   "source": [
    "df1=df.drop([\"StockCode\",\"lower\",\"Description\",\"Country\"],axis=1)"
   ]
  },
  {
   "cell_type": "code",
   "execution_count": 10,
   "id": "f178227b",
   "metadata": {},
   "outputs": [
    {
     "data": {
      "text/html": [
       "<div>\n",
       "<style scoped>\n",
       "    .dataframe tbody tr th:only-of-type {\n",
       "        vertical-align: middle;\n",
       "    }\n",
       "\n",
       "    .dataframe tbody tr th {\n",
       "        vertical-align: top;\n",
       "    }\n",
       "\n",
       "    .dataframe thead th {\n",
       "        text-align: right;\n",
       "    }\n",
       "</style>\n",
       "<table border=\"1\" class=\"dataframe\">\n",
       "  <thead>\n",
       "    <tr style=\"text-align: right;\">\n",
       "      <th></th>\n",
       "      <th>InvoiceNo</th>\n",
       "      <th>Quantity</th>\n",
       "      <th>InvoiceDate</th>\n",
       "      <th>UnitPrice</th>\n",
       "      <th>CustomerID</th>\n",
       "    </tr>\n",
       "  </thead>\n",
       "  <tbody>\n",
       "    <tr>\n",
       "      <th>0</th>\n",
       "      <td>536365</td>\n",
       "      <td>6</td>\n",
       "      <td>2010-12-01 08:26:00</td>\n",
       "      <td>2.55</td>\n",
       "      <td>17850.0</td>\n",
       "    </tr>\n",
       "    <tr>\n",
       "      <th>1</th>\n",
       "      <td>536365</td>\n",
       "      <td>6</td>\n",
       "      <td>2010-12-01 08:26:00</td>\n",
       "      <td>3.39</td>\n",
       "      <td>17850.0</td>\n",
       "    </tr>\n",
       "  </tbody>\n",
       "</table>\n",
       "</div>"
      ],
      "text/plain": [
       "  InvoiceNo  Quantity         InvoiceDate  UnitPrice  CustomerID\n",
       "0    536365         6 2010-12-01 08:26:00       2.55     17850.0\n",
       "1    536365         6 2010-12-01 08:26:00       3.39     17850.0"
      ]
     },
     "execution_count": 10,
     "metadata": {},
     "output_type": "execute_result"
    }
   ],
   "source": [
    "df1.head(2)"
   ]
  },
  {
   "cell_type": "code",
   "execution_count": 11,
   "id": "c3c21cc5",
   "metadata": {},
   "outputs": [
    {
     "data": {
      "text/plain": [
       "InvoiceNo           0\n",
       "Quantity            0\n",
       "InvoiceDate         0\n",
       "UnitPrice           0\n",
       "CustomerID     135080\n",
       "dtype: int64"
      ]
     },
     "execution_count": 11,
     "metadata": {},
     "output_type": "execute_result"
    }
   ],
   "source": [
    "df1.isnull().sum()"
   ]
  },
  {
   "cell_type": "code",
   "execution_count": null,
   "id": "a14bee3e",
   "metadata": {},
   "outputs": [],
   "source": [
    "# we can not retrieve the cust_id if the cumtomer is not willing to disclose"
   ]
  },
  {
   "cell_type": "code",
   "execution_count": 12,
   "id": "e2c1dd63",
   "metadata": {},
   "outputs": [],
   "source": [
    "df1.dropna(axis=0,inplace=True)"
   ]
  },
  {
   "cell_type": "code",
   "execution_count": 13,
   "id": "aabc7d68",
   "metadata": {},
   "outputs": [
    {
     "data": {
      "text/plain": [
       "InvoiceNo      0\n",
       "Quantity       0\n",
       "InvoiceDate    0\n",
       "UnitPrice      0\n",
       "CustomerID     0\n",
       "dtype: int64"
      ]
     },
     "execution_count": 13,
     "metadata": {},
     "output_type": "execute_result"
    }
   ],
   "source": [
    "df1.isnull().sum()"
   ]
  },
  {
   "cell_type": "code",
   "execution_count": 14,
   "id": "ed85292c",
   "metadata": {},
   "outputs": [
    {
     "data": {
      "text/html": [
       "<div>\n",
       "<style scoped>\n",
       "    .dataframe tbody tr th:only-of-type {\n",
       "        vertical-align: middle;\n",
       "    }\n",
       "\n",
       "    .dataframe tbody tr th {\n",
       "        vertical-align: top;\n",
       "    }\n",
       "\n",
       "    .dataframe thead th {\n",
       "        text-align: right;\n",
       "    }\n",
       "</style>\n",
       "<table border=\"1\" class=\"dataframe\">\n",
       "  <thead>\n",
       "    <tr style=\"text-align: right;\">\n",
       "      <th></th>\n",
       "      <th>count</th>\n",
       "      <th>mean</th>\n",
       "      <th>std</th>\n",
       "      <th>min</th>\n",
       "      <th>25%</th>\n",
       "      <th>50%</th>\n",
       "      <th>75%</th>\n",
       "      <th>max</th>\n",
       "    </tr>\n",
       "  </thead>\n",
       "  <tbody>\n",
       "    <tr>\n",
       "      <th>Quantity</th>\n",
       "      <td>406829.0</td>\n",
       "      <td>12.061303</td>\n",
       "      <td>248.693370</td>\n",
       "      <td>-80995.0</td>\n",
       "      <td>2.00</td>\n",
       "      <td>5.00</td>\n",
       "      <td>12.00</td>\n",
       "      <td>80995.0</td>\n",
       "    </tr>\n",
       "    <tr>\n",
       "      <th>UnitPrice</th>\n",
       "      <td>406829.0</td>\n",
       "      <td>3.460471</td>\n",
       "      <td>69.315162</td>\n",
       "      <td>0.0</td>\n",
       "      <td>1.25</td>\n",
       "      <td>1.95</td>\n",
       "      <td>3.75</td>\n",
       "      <td>38970.0</td>\n",
       "    </tr>\n",
       "    <tr>\n",
       "      <th>CustomerID</th>\n",
       "      <td>406829.0</td>\n",
       "      <td>15287.690570</td>\n",
       "      <td>1713.600303</td>\n",
       "      <td>12346.0</td>\n",
       "      <td>13953.00</td>\n",
       "      <td>15152.00</td>\n",
       "      <td>16791.00</td>\n",
       "      <td>18287.0</td>\n",
       "    </tr>\n",
       "  </tbody>\n",
       "</table>\n",
       "</div>"
      ],
      "text/plain": [
       "               count          mean          std      min       25%       50%  \\\n",
       "Quantity    406829.0     12.061303   248.693370 -80995.0      2.00      5.00   \n",
       "UnitPrice   406829.0      3.460471    69.315162      0.0      1.25      1.95   \n",
       "CustomerID  406829.0  15287.690570  1713.600303  12346.0  13953.00  15152.00   \n",
       "\n",
       "                 75%      max  \n",
       "Quantity       12.00  80995.0  \n",
       "UnitPrice       3.75  38970.0  \n",
       "CustomerID  16791.00  18287.0  "
      ]
     },
     "execution_count": 14,
     "metadata": {},
     "output_type": "execute_result"
    }
   ],
   "source": [
    "df1.describe().T"
   ]
  },
  {
   "cell_type": "code",
   "execution_count": null,
   "id": "329c8da7",
   "metadata": {},
   "outputs": [],
   "source": [
    "# the quantity is -ve --> Refund / defective item"
   ]
  },
  {
   "cell_type": "code",
   "execution_count": null,
   "id": "9cf3fb74",
   "metadata": {},
   "outputs": [],
   "source": [
    "# unit price 0 ---> free item"
   ]
  },
  {
   "cell_type": "code",
   "execution_count": 15,
   "id": "e6320364",
   "metadata": {},
   "outputs": [
    {
     "data": {
      "text/html": [
       "<div>\n",
       "<style scoped>\n",
       "    .dataframe tbody tr th:only-of-type {\n",
       "        vertical-align: middle;\n",
       "    }\n",
       "\n",
       "    .dataframe tbody tr th {\n",
       "        vertical-align: top;\n",
       "    }\n",
       "\n",
       "    .dataframe thead th {\n",
       "        text-align: right;\n",
       "    }\n",
       "</style>\n",
       "<table border=\"1\" class=\"dataframe\">\n",
       "  <thead>\n",
       "    <tr style=\"text-align: right;\">\n",
       "      <th></th>\n",
       "      <th>InvoiceNo</th>\n",
       "      <th>Quantity</th>\n",
       "      <th>InvoiceDate</th>\n",
       "      <th>UnitPrice</th>\n",
       "      <th>CustomerID</th>\n",
       "    </tr>\n",
       "  </thead>\n",
       "  <tbody>\n",
       "    <tr>\n",
       "      <th>9302</th>\n",
       "      <td>537197</td>\n",
       "      <td>1</td>\n",
       "      <td>2010-12-05 14:02:00</td>\n",
       "      <td>0.0</td>\n",
       "      <td>12647.0</td>\n",
       "    </tr>\n",
       "    <tr>\n",
       "      <th>33576</th>\n",
       "      <td>539263</td>\n",
       "      <td>4</td>\n",
       "      <td>2010-12-16 14:36:00</td>\n",
       "      <td>0.0</td>\n",
       "      <td>16560.0</td>\n",
       "    </tr>\n",
       "    <tr>\n",
       "      <th>40089</th>\n",
       "      <td>539722</td>\n",
       "      <td>10</td>\n",
       "      <td>2010-12-21 13:45:00</td>\n",
       "      <td>0.0</td>\n",
       "      <td>14911.0</td>\n",
       "    </tr>\n",
       "    <tr>\n",
       "      <th>47068</th>\n",
       "      <td>540372</td>\n",
       "      <td>24</td>\n",
       "      <td>2011-01-06 16:41:00</td>\n",
       "      <td>0.0</td>\n",
       "      <td>13081.0</td>\n",
       "    </tr>\n",
       "    <tr>\n",
       "      <th>47070</th>\n",
       "      <td>540372</td>\n",
       "      <td>24</td>\n",
       "      <td>2011-01-06 16:41:00</td>\n",
       "      <td>0.0</td>\n",
       "      <td>13081.0</td>\n",
       "    </tr>\n",
       "    <tr>\n",
       "      <th>56674</th>\n",
       "      <td>541109</td>\n",
       "      <td>1</td>\n",
       "      <td>2011-01-13 15:10:00</td>\n",
       "      <td>0.0</td>\n",
       "      <td>15107.0</td>\n",
       "    </tr>\n",
       "    <tr>\n",
       "      <th>86789</th>\n",
       "      <td>543599</td>\n",
       "      <td>16</td>\n",
       "      <td>2011-02-10 13:08:00</td>\n",
       "      <td>0.0</td>\n",
       "      <td>17560.0</td>\n",
       "    </tr>\n",
       "    <tr>\n",
       "      <th>130188</th>\n",
       "      <td>547417</td>\n",
       "      <td>36</td>\n",
       "      <td>2011-03-23 10:25:00</td>\n",
       "      <td>0.0</td>\n",
       "      <td>13239.0</td>\n",
       "    </tr>\n",
       "    <tr>\n",
       "      <th>139453</th>\n",
       "      <td>548318</td>\n",
       "      <td>5</td>\n",
       "      <td>2011-03-30 12:45:00</td>\n",
       "      <td>0.0</td>\n",
       "      <td>13113.0</td>\n",
       "    </tr>\n",
       "    <tr>\n",
       "      <th>145208</th>\n",
       "      <td>548871</td>\n",
       "      <td>2</td>\n",
       "      <td>2011-04-04 14:42:00</td>\n",
       "      <td>0.0</td>\n",
       "      <td>14410.0</td>\n",
       "    </tr>\n",
       "  </tbody>\n",
       "</table>\n",
       "</div>"
      ],
      "text/plain": [
       "       InvoiceNo  Quantity         InvoiceDate  UnitPrice  CustomerID\n",
       "9302      537197         1 2010-12-05 14:02:00        0.0     12647.0\n",
       "33576     539263         4 2010-12-16 14:36:00        0.0     16560.0\n",
       "40089     539722        10 2010-12-21 13:45:00        0.0     14911.0\n",
       "47068     540372        24 2011-01-06 16:41:00        0.0     13081.0\n",
       "47070     540372        24 2011-01-06 16:41:00        0.0     13081.0\n",
       "56674     541109         1 2011-01-13 15:10:00        0.0     15107.0\n",
       "86789     543599        16 2011-02-10 13:08:00        0.0     17560.0\n",
       "130188    547417        36 2011-03-23 10:25:00        0.0     13239.0\n",
       "139453    548318         5 2011-03-30 12:45:00        0.0     13113.0\n",
       "145208    548871         2 2011-04-04 14:42:00        0.0     14410.0"
      ]
     },
     "execution_count": 15,
     "metadata": {},
     "output_type": "execute_result"
    }
   ],
   "source": [
    "df1[df1[\"UnitPrice\"]==0].head(10)"
   ]
  },
  {
   "cell_type": "code",
   "execution_count": 16,
   "id": "41bf7051",
   "metadata": {},
   "outputs": [],
   "source": [
    "df1=df1[df1[\"Quantity\"]>0]"
   ]
  },
  {
   "cell_type": "code",
   "execution_count": 17,
   "id": "27c27665",
   "metadata": {},
   "outputs": [
    {
     "data": {
      "text/html": [
       "<div>\n",
       "<style scoped>\n",
       "    .dataframe tbody tr th:only-of-type {\n",
       "        vertical-align: middle;\n",
       "    }\n",
       "\n",
       "    .dataframe tbody tr th {\n",
       "        vertical-align: top;\n",
       "    }\n",
       "\n",
       "    .dataframe thead th {\n",
       "        text-align: right;\n",
       "    }\n",
       "</style>\n",
       "<table border=\"1\" class=\"dataframe\">\n",
       "  <thead>\n",
       "    <tr style=\"text-align: right;\">\n",
       "      <th></th>\n",
       "      <th>Quantity</th>\n",
       "      <th>UnitPrice</th>\n",
       "      <th>CustomerID</th>\n",
       "    </tr>\n",
       "  </thead>\n",
       "  <tbody>\n",
       "    <tr>\n",
       "      <th>count</th>\n",
       "      <td>397924.000000</td>\n",
       "      <td>397924.000000</td>\n",
       "      <td>397924.000000</td>\n",
       "    </tr>\n",
       "    <tr>\n",
       "      <th>mean</th>\n",
       "      <td>13.021823</td>\n",
       "      <td>3.116174</td>\n",
       "      <td>15294.315171</td>\n",
       "    </tr>\n",
       "    <tr>\n",
       "      <th>std</th>\n",
       "      <td>180.420210</td>\n",
       "      <td>22.096788</td>\n",
       "      <td>1713.169877</td>\n",
       "    </tr>\n",
       "    <tr>\n",
       "      <th>min</th>\n",
       "      <td>1.000000</td>\n",
       "      <td>0.000000</td>\n",
       "      <td>12346.000000</td>\n",
       "    </tr>\n",
       "    <tr>\n",
       "      <th>25%</th>\n",
       "      <td>2.000000</td>\n",
       "      <td>1.250000</td>\n",
       "      <td>13969.000000</td>\n",
       "    </tr>\n",
       "    <tr>\n",
       "      <th>50%</th>\n",
       "      <td>6.000000</td>\n",
       "      <td>1.950000</td>\n",
       "      <td>15159.000000</td>\n",
       "    </tr>\n",
       "    <tr>\n",
       "      <th>75%</th>\n",
       "      <td>12.000000</td>\n",
       "      <td>3.750000</td>\n",
       "      <td>16795.000000</td>\n",
       "    </tr>\n",
       "    <tr>\n",
       "      <th>max</th>\n",
       "      <td>80995.000000</td>\n",
       "      <td>8142.750000</td>\n",
       "      <td>18287.000000</td>\n",
       "    </tr>\n",
       "  </tbody>\n",
       "</table>\n",
       "</div>"
      ],
      "text/plain": [
       "            Quantity      UnitPrice     CustomerID\n",
       "count  397924.000000  397924.000000  397924.000000\n",
       "mean       13.021823       3.116174   15294.315171\n",
       "std       180.420210      22.096788    1713.169877\n",
       "min         1.000000       0.000000   12346.000000\n",
       "25%         2.000000       1.250000   13969.000000\n",
       "50%         6.000000       1.950000   15159.000000\n",
       "75%        12.000000       3.750000   16795.000000\n",
       "max     80995.000000    8142.750000   18287.000000"
      ]
     },
     "execution_count": 17,
     "metadata": {},
     "output_type": "execute_result"
    }
   ],
   "source": [
    "df1.describe()"
   ]
  },
  {
   "cell_type": "code",
   "execution_count": 19,
   "id": "20fdb6b5",
   "metadata": {},
   "outputs": [
    {
     "data": {
      "text/html": [
       "<div>\n",
       "<style scoped>\n",
       "    .dataframe tbody tr th:only-of-type {\n",
       "        vertical-align: middle;\n",
       "    }\n",
       "\n",
       "    .dataframe tbody tr th {\n",
       "        vertical-align: top;\n",
       "    }\n",
       "\n",
       "    .dataframe thead th {\n",
       "        text-align: right;\n",
       "    }\n",
       "</style>\n",
       "<table border=\"1\" class=\"dataframe\">\n",
       "  <thead>\n",
       "    <tr style=\"text-align: right;\">\n",
       "      <th></th>\n",
       "      <th>InvoiceNo</th>\n",
       "      <th>Quantity</th>\n",
       "      <th>InvoiceDate</th>\n",
       "      <th>UnitPrice</th>\n",
       "      <th>CustomerID</th>\n",
       "    </tr>\n",
       "  </thead>\n",
       "  <tbody>\n",
       "    <tr>\n",
       "      <th>0</th>\n",
       "      <td>536365</td>\n",
       "      <td>6</td>\n",
       "      <td>2010-12-01 08:26:00</td>\n",
       "      <td>2.55</td>\n",
       "      <td>17850.0</td>\n",
       "    </tr>\n",
       "    <tr>\n",
       "      <th>1</th>\n",
       "      <td>536365</td>\n",
       "      <td>6</td>\n",
       "      <td>2010-12-01 08:26:00</td>\n",
       "      <td>3.39</td>\n",
       "      <td>17850.0</td>\n",
       "    </tr>\n",
       "    <tr>\n",
       "      <th>2</th>\n",
       "      <td>536365</td>\n",
       "      <td>8</td>\n",
       "      <td>2010-12-01 08:26:00</td>\n",
       "      <td>2.75</td>\n",
       "      <td>17850.0</td>\n",
       "    </tr>\n",
       "    <tr>\n",
       "      <th>3</th>\n",
       "      <td>536365</td>\n",
       "      <td>6</td>\n",
       "      <td>2010-12-01 08:26:00</td>\n",
       "      <td>3.39</td>\n",
       "      <td>17850.0</td>\n",
       "    </tr>\n",
       "    <tr>\n",
       "      <th>4</th>\n",
       "      <td>536365</td>\n",
       "      <td>6</td>\n",
       "      <td>2010-12-01 08:26:00</td>\n",
       "      <td>3.39</td>\n",
       "      <td>17850.0</td>\n",
       "    </tr>\n",
       "    <tr>\n",
       "      <th>5</th>\n",
       "      <td>536365</td>\n",
       "      <td>2</td>\n",
       "      <td>2010-12-01 08:26:00</td>\n",
       "      <td>7.65</td>\n",
       "      <td>17850.0</td>\n",
       "    </tr>\n",
       "    <tr>\n",
       "      <th>6</th>\n",
       "      <td>536365</td>\n",
       "      <td>6</td>\n",
       "      <td>2010-12-01 08:26:00</td>\n",
       "      <td>4.25</td>\n",
       "      <td>17850.0</td>\n",
       "    </tr>\n",
       "    <tr>\n",
       "      <th>7</th>\n",
       "      <td>536366</td>\n",
       "      <td>6</td>\n",
       "      <td>2010-12-01 08:28:00</td>\n",
       "      <td>1.85</td>\n",
       "      <td>17850.0</td>\n",
       "    </tr>\n",
       "    <tr>\n",
       "      <th>8</th>\n",
       "      <td>536366</td>\n",
       "      <td>6</td>\n",
       "      <td>2010-12-01 08:28:00</td>\n",
       "      <td>1.85</td>\n",
       "      <td>17850.0</td>\n",
       "    </tr>\n",
       "    <tr>\n",
       "      <th>9</th>\n",
       "      <td>536367</td>\n",
       "      <td>32</td>\n",
       "      <td>2010-12-01 08:34:00</td>\n",
       "      <td>1.69</td>\n",
       "      <td>13047.0</td>\n",
       "    </tr>\n",
       "    <tr>\n",
       "      <th>10</th>\n",
       "      <td>536367</td>\n",
       "      <td>6</td>\n",
       "      <td>2010-12-01 08:34:00</td>\n",
       "      <td>2.10</td>\n",
       "      <td>13047.0</td>\n",
       "    </tr>\n",
       "    <tr>\n",
       "      <th>11</th>\n",
       "      <td>536367</td>\n",
       "      <td>6</td>\n",
       "      <td>2010-12-01 08:34:00</td>\n",
       "      <td>2.10</td>\n",
       "      <td>13047.0</td>\n",
       "    </tr>\n",
       "    <tr>\n",
       "      <th>12</th>\n",
       "      <td>536367</td>\n",
       "      <td>8</td>\n",
       "      <td>2010-12-01 08:34:00</td>\n",
       "      <td>3.75</td>\n",
       "      <td>13047.0</td>\n",
       "    </tr>\n",
       "    <tr>\n",
       "      <th>13</th>\n",
       "      <td>536367</td>\n",
       "      <td>6</td>\n",
       "      <td>2010-12-01 08:34:00</td>\n",
       "      <td>1.65</td>\n",
       "      <td>13047.0</td>\n",
       "    </tr>\n",
       "    <tr>\n",
       "      <th>14</th>\n",
       "      <td>536367</td>\n",
       "      <td>6</td>\n",
       "      <td>2010-12-01 08:34:00</td>\n",
       "      <td>4.25</td>\n",
       "      <td>13047.0</td>\n",
       "    </tr>\n",
       "    <tr>\n",
       "      <th>15</th>\n",
       "      <td>536367</td>\n",
       "      <td>3</td>\n",
       "      <td>2010-12-01 08:34:00</td>\n",
       "      <td>4.95</td>\n",
       "      <td>13047.0</td>\n",
       "    </tr>\n",
       "    <tr>\n",
       "      <th>16</th>\n",
       "      <td>536367</td>\n",
       "      <td>2</td>\n",
       "      <td>2010-12-01 08:34:00</td>\n",
       "      <td>9.95</td>\n",
       "      <td>13047.0</td>\n",
       "    </tr>\n",
       "    <tr>\n",
       "      <th>17</th>\n",
       "      <td>536367</td>\n",
       "      <td>3</td>\n",
       "      <td>2010-12-01 08:34:00</td>\n",
       "      <td>5.95</td>\n",
       "      <td>13047.0</td>\n",
       "    </tr>\n",
       "    <tr>\n",
       "      <th>18</th>\n",
       "      <td>536367</td>\n",
       "      <td>3</td>\n",
       "      <td>2010-12-01 08:34:00</td>\n",
       "      <td>5.95</td>\n",
       "      <td>13047.0</td>\n",
       "    </tr>\n",
       "    <tr>\n",
       "      <th>19</th>\n",
       "      <td>536367</td>\n",
       "      <td>4</td>\n",
       "      <td>2010-12-01 08:34:00</td>\n",
       "      <td>7.95</td>\n",
       "      <td>13047.0</td>\n",
       "    </tr>\n",
       "  </tbody>\n",
       "</table>\n",
       "</div>"
      ],
      "text/plain": [
       "   InvoiceNo  Quantity         InvoiceDate  UnitPrice  CustomerID\n",
       "0     536365         6 2010-12-01 08:26:00       2.55     17850.0\n",
       "1     536365         6 2010-12-01 08:26:00       3.39     17850.0\n",
       "2     536365         8 2010-12-01 08:26:00       2.75     17850.0\n",
       "3     536365         6 2010-12-01 08:26:00       3.39     17850.0\n",
       "4     536365         6 2010-12-01 08:26:00       3.39     17850.0\n",
       "5     536365         2 2010-12-01 08:26:00       7.65     17850.0\n",
       "6     536365         6 2010-12-01 08:26:00       4.25     17850.0\n",
       "7     536366         6 2010-12-01 08:28:00       1.85     17850.0\n",
       "8     536366         6 2010-12-01 08:28:00       1.85     17850.0\n",
       "9     536367        32 2010-12-01 08:34:00       1.69     13047.0\n",
       "10    536367         6 2010-12-01 08:34:00       2.10     13047.0\n",
       "11    536367         6 2010-12-01 08:34:00       2.10     13047.0\n",
       "12    536367         8 2010-12-01 08:34:00       3.75     13047.0\n",
       "13    536367         6 2010-12-01 08:34:00       1.65     13047.0\n",
       "14    536367         6 2010-12-01 08:34:00       4.25     13047.0\n",
       "15    536367         3 2010-12-01 08:34:00       4.95     13047.0\n",
       "16    536367         2 2010-12-01 08:34:00       9.95     13047.0\n",
       "17    536367         3 2010-12-01 08:34:00       5.95     13047.0\n",
       "18    536367         3 2010-12-01 08:34:00       5.95     13047.0\n",
       "19    536367         4 2010-12-01 08:34:00       7.95     13047.0"
      ]
     },
     "execution_count": 19,
     "metadata": {},
     "output_type": "execute_result"
    }
   ],
   "source": [
    "df1.head(20)"
   ]
  },
  {
   "cell_type": "code",
   "execution_count": null,
   "id": "a15f562f",
   "metadata": {},
   "outputs": [],
   "source": [
    "# lets create a total price column-- qty* unit ptice"
   ]
  },
  {
   "cell_type": "code",
   "execution_count": 20,
   "id": "55b4f109",
   "metadata": {},
   "outputs": [],
   "source": [
    "df1[\"Total\"]=df1[\"Quantity\"]*df1[\"UnitPrice\"]"
   ]
  },
  {
   "cell_type": "code",
   "execution_count": 21,
   "id": "02efdb7a",
   "metadata": {},
   "outputs": [
    {
     "data": {
      "text/html": [
       "<div>\n",
       "<style scoped>\n",
       "    .dataframe tbody tr th:only-of-type {\n",
       "        vertical-align: middle;\n",
       "    }\n",
       "\n",
       "    .dataframe tbody tr th {\n",
       "        vertical-align: top;\n",
       "    }\n",
       "\n",
       "    .dataframe thead th {\n",
       "        text-align: right;\n",
       "    }\n",
       "</style>\n",
       "<table border=\"1\" class=\"dataframe\">\n",
       "  <thead>\n",
       "    <tr style=\"text-align: right;\">\n",
       "      <th></th>\n",
       "      <th>InvoiceNo</th>\n",
       "      <th>Quantity</th>\n",
       "      <th>InvoiceDate</th>\n",
       "      <th>UnitPrice</th>\n",
       "      <th>CustomerID</th>\n",
       "      <th>Total</th>\n",
       "    </tr>\n",
       "  </thead>\n",
       "  <tbody>\n",
       "    <tr>\n",
       "      <th>0</th>\n",
       "      <td>536365</td>\n",
       "      <td>6</td>\n",
       "      <td>2010-12-01 08:26:00</td>\n",
       "      <td>2.55</td>\n",
       "      <td>17850.0</td>\n",
       "      <td>15.30</td>\n",
       "    </tr>\n",
       "    <tr>\n",
       "      <th>1</th>\n",
       "      <td>536365</td>\n",
       "      <td>6</td>\n",
       "      <td>2010-12-01 08:26:00</td>\n",
       "      <td>3.39</td>\n",
       "      <td>17850.0</td>\n",
       "      <td>20.34</td>\n",
       "    </tr>\n",
       "  </tbody>\n",
       "</table>\n",
       "</div>"
      ],
      "text/plain": [
       "  InvoiceNo  Quantity         InvoiceDate  UnitPrice  CustomerID  Total\n",
       "0    536365         6 2010-12-01 08:26:00       2.55     17850.0  15.30\n",
       "1    536365         6 2010-12-01 08:26:00       3.39     17850.0  20.34"
      ]
     },
     "execution_count": 21,
     "metadata": {},
     "output_type": "execute_result"
    }
   ],
   "source": [
    "df1.head(2)"
   ]
  },
  {
   "cell_type": "code",
   "execution_count": null,
   "id": "01b76c1b",
   "metadata": {},
   "outputs": [],
   "source": [
    "# we can drop unit ptice and qty col becoz we have created a total colume"
   ]
  },
  {
   "cell_type": "code",
   "execution_count": 22,
   "id": "e9284dd7",
   "metadata": {},
   "outputs": [],
   "source": [
    "df2=df1.drop([\"Quantity\",\"UnitPrice\"],axis=1)"
   ]
  },
  {
   "cell_type": "code",
   "execution_count": 24,
   "id": "1bdfe445",
   "metadata": {},
   "outputs": [
    {
     "data": {
      "text/html": [
       "<div>\n",
       "<style scoped>\n",
       "    .dataframe tbody tr th:only-of-type {\n",
       "        vertical-align: middle;\n",
       "    }\n",
       "\n",
       "    .dataframe tbody tr th {\n",
       "        vertical-align: top;\n",
       "    }\n",
       "\n",
       "    .dataframe thead th {\n",
       "        text-align: right;\n",
       "    }\n",
       "</style>\n",
       "<table border=\"1\" class=\"dataframe\">\n",
       "  <thead>\n",
       "    <tr style=\"text-align: right;\">\n",
       "      <th></th>\n",
       "      <th>InvoiceNo</th>\n",
       "      <th>InvoiceDate</th>\n",
       "      <th>CustomerID</th>\n",
       "      <th>Total</th>\n",
       "    </tr>\n",
       "  </thead>\n",
       "  <tbody>\n",
       "    <tr>\n",
       "      <th>0</th>\n",
       "      <td>536365</td>\n",
       "      <td>2010-12-01 08:26:00</td>\n",
       "      <td>17850.0</td>\n",
       "      <td>15.30</td>\n",
       "    </tr>\n",
       "    <tr>\n",
       "      <th>1</th>\n",
       "      <td>536365</td>\n",
       "      <td>2010-12-01 08:26:00</td>\n",
       "      <td>17850.0</td>\n",
       "      <td>20.34</td>\n",
       "    </tr>\n",
       "    <tr>\n",
       "      <th>2</th>\n",
       "      <td>536365</td>\n",
       "      <td>2010-12-01 08:26:00</td>\n",
       "      <td>17850.0</td>\n",
       "      <td>22.00</td>\n",
       "    </tr>\n",
       "    <tr>\n",
       "      <th>3</th>\n",
       "      <td>536365</td>\n",
       "      <td>2010-12-01 08:26:00</td>\n",
       "      <td>17850.0</td>\n",
       "      <td>20.34</td>\n",
       "    </tr>\n",
       "    <tr>\n",
       "      <th>4</th>\n",
       "      <td>536365</td>\n",
       "      <td>2010-12-01 08:26:00</td>\n",
       "      <td>17850.0</td>\n",
       "      <td>20.34</td>\n",
       "    </tr>\n",
       "  </tbody>\n",
       "</table>\n",
       "</div>"
      ],
      "text/plain": [
       "  InvoiceNo         InvoiceDate  CustomerID  Total\n",
       "0    536365 2010-12-01 08:26:00     17850.0  15.30\n",
       "1    536365 2010-12-01 08:26:00     17850.0  20.34\n",
       "2    536365 2010-12-01 08:26:00     17850.0  22.00\n",
       "3    536365 2010-12-01 08:26:00     17850.0  20.34\n",
       "4    536365 2010-12-01 08:26:00     17850.0  20.34"
      ]
     },
     "execution_count": 24,
     "metadata": {},
     "output_type": "execute_result"
    }
   ],
   "source": [
    "df2.head()"
   ]
  },
  {
   "cell_type": "code",
   "execution_count": null,
   "id": "b476b253",
   "metadata": {},
   "outputs": [],
   "source": [
    "# groupby function will summerize the duplicate invoice no. and sum the total value"
   ]
  },
  {
   "cell_type": "code",
   "execution_count": 25,
   "id": "ad8910f9",
   "metadata": {},
   "outputs": [],
   "source": [
    "df_final=df2.groupby([\"InvoiceNo\",\"InvoiceDate\",\"CustomerID\"]).agg({\"Total\":\"sum\"}).reset_index()"
   ]
  },
  {
   "cell_type": "code",
   "execution_count": 26,
   "id": "bd2fb788",
   "metadata": {},
   "outputs": [
    {
     "data": {
      "text/html": [
       "<div>\n",
       "<style scoped>\n",
       "    .dataframe tbody tr th:only-of-type {\n",
       "        vertical-align: middle;\n",
       "    }\n",
       "\n",
       "    .dataframe tbody tr th {\n",
       "        vertical-align: top;\n",
       "    }\n",
       "\n",
       "    .dataframe thead th {\n",
       "        text-align: right;\n",
       "    }\n",
       "</style>\n",
       "<table border=\"1\" class=\"dataframe\">\n",
       "  <thead>\n",
       "    <tr style=\"text-align: right;\">\n",
       "      <th></th>\n",
       "      <th>InvoiceNo</th>\n",
       "      <th>InvoiceDate</th>\n",
       "      <th>CustomerID</th>\n",
       "      <th>Total</th>\n",
       "    </tr>\n",
       "  </thead>\n",
       "  <tbody>\n",
       "    <tr>\n",
       "      <th>0</th>\n",
       "      <td>536365</td>\n",
       "      <td>2010-12-01 08:26:00</td>\n",
       "      <td>17850.0</td>\n",
       "      <td>139.12</td>\n",
       "    </tr>\n",
       "    <tr>\n",
       "      <th>1</th>\n",
       "      <td>536366</td>\n",
       "      <td>2010-12-01 08:28:00</td>\n",
       "      <td>17850.0</td>\n",
       "      <td>22.20</td>\n",
       "    </tr>\n",
       "    <tr>\n",
       "      <th>2</th>\n",
       "      <td>536367</td>\n",
       "      <td>2010-12-01 08:34:00</td>\n",
       "      <td>13047.0</td>\n",
       "      <td>278.73</td>\n",
       "    </tr>\n",
       "    <tr>\n",
       "      <th>3</th>\n",
       "      <td>536368</td>\n",
       "      <td>2010-12-01 08:34:00</td>\n",
       "      <td>13047.0</td>\n",
       "      <td>70.05</td>\n",
       "    </tr>\n",
       "    <tr>\n",
       "      <th>4</th>\n",
       "      <td>536369</td>\n",
       "      <td>2010-12-01 08:35:00</td>\n",
       "      <td>13047.0</td>\n",
       "      <td>17.85</td>\n",
       "    </tr>\n",
       "  </tbody>\n",
       "</table>\n",
       "</div>"
      ],
      "text/plain": [
       "   InvoiceNo         InvoiceDate  CustomerID   Total\n",
       "0     536365 2010-12-01 08:26:00     17850.0  139.12\n",
       "1     536366 2010-12-01 08:28:00     17850.0   22.20\n",
       "2     536367 2010-12-01 08:34:00     13047.0  278.73\n",
       "3     536368 2010-12-01 08:34:00     13047.0   70.05\n",
       "4     536369 2010-12-01 08:35:00     13047.0   17.85"
      ]
     },
     "execution_count": 26,
     "metadata": {},
     "output_type": "execute_result"
    }
   ],
   "source": [
    "df_final.head()"
   ]
  },
  {
   "cell_type": "code",
   "execution_count": null,
   "id": "bf3c181d",
   "metadata": {},
   "outputs": [],
   "source": [
    "# recency --> dataset last date - customer last purchase\n",
    "# frequency --> no. of time new invoice has generated w.r.to a customer\n",
    "# Monetary--> total of sum with r.to cust id"
   ]
  },
  {
   "cell_type": "code",
   "execution_count": null,
   "id": "4f48d1d3",
   "metadata": {},
   "outputs": [],
   "source": [
    "#lets work on datetime data type"
   ]
  },
  {
   "cell_type": "code",
   "execution_count": 27,
   "id": "877bfd3e",
   "metadata": {},
   "outputs": [
    {
     "data": {
      "text/plain": [
       "Timestamp('2011-12-09 12:50:00')"
      ]
     },
     "execution_count": 27,
     "metadata": {},
     "output_type": "execute_result"
    }
   ],
   "source": [
    "max(df_final[\"InvoiceDate\"])"
   ]
  },
  {
   "cell_type": "code",
   "execution_count": null,
   "id": "634b759c",
   "metadata": {},
   "outputs": [],
   "source": [
    "# as per the dataset the business date is Dec 9th 2011"
   ]
  },
  {
   "cell_type": "code",
   "execution_count": 28,
   "id": "7858ace1",
   "metadata": {},
   "outputs": [
    {
     "data": {
      "text/plain": [
       "Timestamp('2010-12-01 08:26:00')"
      ]
     },
     "execution_count": 28,
     "metadata": {},
     "output_type": "execute_result"
    }
   ],
   "source": [
    "min(df_final[\"InvoiceDate\"])"
   ]
  },
  {
   "cell_type": "code",
   "execution_count": null,
   "id": "64ad7fc0",
   "metadata": {},
   "outputs": [],
   "source": [
    "# approximately we have one year of dataset"
   ]
  },
  {
   "cell_type": "code",
   "execution_count": null,
   "id": "4d66fe5d",
   "metadata": {},
   "outputs": [],
   "source": [
    "# lets set the bench mark of last business date as +1 day extra ..ie 10 Dec 2011"
   ]
  },
  {
   "cell_type": "code",
   "execution_count": 29,
   "id": "61cec155",
   "metadata": {},
   "outputs": [
    {
     "data": {
      "text/plain": [
       "datetime.datetime(2011, 12, 10, 0, 0)"
      ]
     },
     "execution_count": 29,
     "metadata": {},
     "output_type": "execute_result"
    }
   ],
   "source": [
    "import datetime as dt\n",
    "latest_date=dt.datetime(2011,12,10)\n",
    "latest_date"
   ]
  },
  {
   "cell_type": "code",
   "execution_count": null,
   "id": "ed2b5ad9",
   "metadata": {},
   "outputs": [],
   "source": [
    "# recency --> dataset last date - customer last purchase\n",
    "# frequency --> no. of time new invoice has generated w.r.to a customer\n",
    "# Monetary--> total of sum with r.to cust id"
   ]
  },
  {
   "cell_type": "code",
   "execution_count": 30,
   "id": "c31d1d18",
   "metadata": {},
   "outputs": [
    {
     "data": {
      "text/html": [
       "<div>\n",
       "<style scoped>\n",
       "    .dataframe tbody tr th:only-of-type {\n",
       "        vertical-align: middle;\n",
       "    }\n",
       "\n",
       "    .dataframe tbody tr th {\n",
       "        vertical-align: top;\n",
       "    }\n",
       "\n",
       "    .dataframe thead th {\n",
       "        text-align: right;\n",
       "    }\n",
       "</style>\n",
       "<table border=\"1\" class=\"dataframe\">\n",
       "  <thead>\n",
       "    <tr style=\"text-align: right;\">\n",
       "      <th></th>\n",
       "      <th>InvoiceNo</th>\n",
       "      <th>InvoiceDate</th>\n",
       "      <th>CustomerID</th>\n",
       "      <th>Total</th>\n",
       "    </tr>\n",
       "  </thead>\n",
       "  <tbody>\n",
       "    <tr>\n",
       "      <th>0</th>\n",
       "      <td>536365</td>\n",
       "      <td>2010-12-01 08:26:00</td>\n",
       "      <td>17850.0</td>\n",
       "      <td>139.12</td>\n",
       "    </tr>\n",
       "    <tr>\n",
       "      <th>1</th>\n",
       "      <td>536366</td>\n",
       "      <td>2010-12-01 08:28:00</td>\n",
       "      <td>17850.0</td>\n",
       "      <td>22.20</td>\n",
       "    </tr>\n",
       "    <tr>\n",
       "      <th>2</th>\n",
       "      <td>536367</td>\n",
       "      <td>2010-12-01 08:34:00</td>\n",
       "      <td>13047.0</td>\n",
       "      <td>278.73</td>\n",
       "    </tr>\n",
       "    <tr>\n",
       "      <th>3</th>\n",
       "      <td>536368</td>\n",
       "      <td>2010-12-01 08:34:00</td>\n",
       "      <td>13047.0</td>\n",
       "      <td>70.05</td>\n",
       "    </tr>\n",
       "    <tr>\n",
       "      <th>4</th>\n",
       "      <td>536369</td>\n",
       "      <td>2010-12-01 08:35:00</td>\n",
       "      <td>13047.0</td>\n",
       "      <td>17.85</td>\n",
       "    </tr>\n",
       "  </tbody>\n",
       "</table>\n",
       "</div>"
      ],
      "text/plain": [
       "   InvoiceNo         InvoiceDate  CustomerID   Total\n",
       "0     536365 2010-12-01 08:26:00     17850.0  139.12\n",
       "1     536366 2010-12-01 08:28:00     17850.0   22.20\n",
       "2     536367 2010-12-01 08:34:00     13047.0  278.73\n",
       "3     536368 2010-12-01 08:34:00     13047.0   70.05\n",
       "4     536369 2010-12-01 08:35:00     13047.0   17.85"
      ]
     },
     "execution_count": 30,
     "metadata": {},
     "output_type": "execute_result"
    }
   ],
   "source": [
    "df_final.head()"
   ]
  },
  {
   "cell_type": "code",
   "execution_count": null,
   "id": "0582b328",
   "metadata": {},
   "outputs": [],
   "source": [
    "# to calculate the R,F,M with respect to Customer ID"
   ]
  },
  {
   "cell_type": "code",
   "execution_count": 35,
   "id": "8b635115",
   "metadata": {},
   "outputs": [],
   "source": [
    "RFM_score=df_final.groupby(\"CustomerID\").agg({\"InvoiceDate\":lambda x:(latest_date-x.max()).days,\n",
    "                                             \"InvoiceNo\":lambda x:x.count(),\n",
    "                                             \"Total\":lambda x:x.sum()}).reset_index()"
   ]
  },
  {
   "cell_type": "code",
   "execution_count": 32,
   "id": "1c455f51",
   "metadata": {},
   "outputs": [
    {
     "data": {
      "text/html": [
       "<div>\n",
       "<style scoped>\n",
       "    .dataframe tbody tr th:only-of-type {\n",
       "        vertical-align: middle;\n",
       "    }\n",
       "\n",
       "    .dataframe tbody tr th {\n",
       "        vertical-align: top;\n",
       "    }\n",
       "\n",
       "    .dataframe thead th {\n",
       "        text-align: right;\n",
       "    }\n",
       "</style>\n",
       "<table border=\"1\" class=\"dataframe\">\n",
       "  <thead>\n",
       "    <tr style=\"text-align: right;\">\n",
       "      <th></th>\n",
       "      <th>CustomerID</th>\n",
       "      <th>InvoiceDate</th>\n",
       "      <th>InvoiceNo</th>\n",
       "      <th>Total</th>\n",
       "    </tr>\n",
       "  </thead>\n",
       "  <tbody>\n",
       "    <tr>\n",
       "      <th>0</th>\n",
       "      <td>12346.0</td>\n",
       "      <td>325</td>\n",
       "      <td>1</td>\n",
       "      <td>77183.60</td>\n",
       "    </tr>\n",
       "    <tr>\n",
       "      <th>1</th>\n",
       "      <td>12347.0</td>\n",
       "      <td>2</td>\n",
       "      <td>7</td>\n",
       "      <td>4310.00</td>\n",
       "    </tr>\n",
       "    <tr>\n",
       "      <th>2</th>\n",
       "      <td>12348.0</td>\n",
       "      <td>75</td>\n",
       "      <td>4</td>\n",
       "      <td>1797.24</td>\n",
       "    </tr>\n",
       "    <tr>\n",
       "      <th>3</th>\n",
       "      <td>12349.0</td>\n",
       "      <td>18</td>\n",
       "      <td>1</td>\n",
       "      <td>1757.55</td>\n",
       "    </tr>\n",
       "    <tr>\n",
       "      <th>4</th>\n",
       "      <td>12350.0</td>\n",
       "      <td>310</td>\n",
       "      <td>1</td>\n",
       "      <td>334.40</td>\n",
       "    </tr>\n",
       "  </tbody>\n",
       "</table>\n",
       "</div>"
      ],
      "text/plain": [
       "   CustomerID  InvoiceDate  InvoiceNo     Total\n",
       "0     12346.0          325          1  77183.60\n",
       "1     12347.0            2          7   4310.00\n",
       "2     12348.0           75          4   1797.24\n",
       "3     12349.0           18          1   1757.55\n",
       "4     12350.0          310          1    334.40"
      ]
     },
     "execution_count": 32,
     "metadata": {},
     "output_type": "execute_result"
    }
   ],
   "source": [
    "RFM_score.head()"
   ]
  },
  {
   "cell_type": "code",
   "execution_count": null,
   "id": "ca9a61ea",
   "metadata": {},
   "outputs": [],
   "source": [
    "# Rename the columns as per calculation we made"
   ]
  },
  {
   "cell_type": "code",
   "execution_count": 36,
   "id": "60c0ce39",
   "metadata": {},
   "outputs": [],
   "source": [
    "RFM_score=RFM_score.rename(columns={\"InvoiceDate\":\"Recency\",\"InvoiceNo\":\"Frequency\",\"Total\":\"Monetary\"})"
   ]
  },
  {
   "cell_type": "code",
   "execution_count": 37,
   "id": "2924b33c",
   "metadata": {},
   "outputs": [
    {
     "data": {
      "text/html": [
       "<div>\n",
       "<style scoped>\n",
       "    .dataframe tbody tr th:only-of-type {\n",
       "        vertical-align: middle;\n",
       "    }\n",
       "\n",
       "    .dataframe tbody tr th {\n",
       "        vertical-align: top;\n",
       "    }\n",
       "\n",
       "    .dataframe thead th {\n",
       "        text-align: right;\n",
       "    }\n",
       "</style>\n",
       "<table border=\"1\" class=\"dataframe\">\n",
       "  <thead>\n",
       "    <tr style=\"text-align: right;\">\n",
       "      <th></th>\n",
       "      <th>CustomerID</th>\n",
       "      <th>Recency</th>\n",
       "      <th>Frequency</th>\n",
       "      <th>Monetary</th>\n",
       "    </tr>\n",
       "  </thead>\n",
       "  <tbody>\n",
       "    <tr>\n",
       "      <th>0</th>\n",
       "      <td>12346.0</td>\n",
       "      <td>325</td>\n",
       "      <td>1</td>\n",
       "      <td>77183.6</td>\n",
       "    </tr>\n",
       "    <tr>\n",
       "      <th>1</th>\n",
       "      <td>12347.0</td>\n",
       "      <td>2</td>\n",
       "      <td>7</td>\n",
       "      <td>4310.0</td>\n",
       "    </tr>\n",
       "  </tbody>\n",
       "</table>\n",
       "</div>"
      ],
      "text/plain": [
       "   CustomerID  Recency  Frequency  Monetary\n",
       "0     12346.0      325          1   77183.6\n",
       "1     12347.0        2          7    4310.0"
      ]
     },
     "execution_count": 37,
     "metadata": {},
     "output_type": "execute_result"
    }
   ],
   "source": [
    "RFM_score.head(2)"
   ]
  },
  {
   "cell_type": "code",
   "execution_count": null,
   "id": "5ce288fb",
   "metadata": {},
   "outputs": [],
   "source": [
    "# we can assign the rank( marking scheme) -- using the rank function"
   ]
  },
  {
   "cell_type": "code",
   "execution_count": 38,
   "id": "26d81c67",
   "metadata": {},
   "outputs": [],
   "source": [
    "RFM_score[\"R_rank\"]=RFM_score[\"Recency\"].rank(ascending=False)\n",
    "RFM_score[\"F_rank\"]=RFM_score[\"Frequency\"].rank(ascending=True)\n",
    "RFM_score[\"M_rank\"]=RFM_score[\"Monetary\"].rank(ascending=True)"
   ]
  },
  {
   "cell_type": "code",
   "execution_count": 39,
   "id": "9239c508",
   "metadata": {},
   "outputs": [
    {
     "data": {
      "text/html": [
       "<div>\n",
       "<style scoped>\n",
       "    .dataframe tbody tr th:only-of-type {\n",
       "        vertical-align: middle;\n",
       "    }\n",
       "\n",
       "    .dataframe tbody tr th {\n",
       "        vertical-align: top;\n",
       "    }\n",
       "\n",
       "    .dataframe thead th {\n",
       "        text-align: right;\n",
       "    }\n",
       "</style>\n",
       "<table border=\"1\" class=\"dataframe\">\n",
       "  <thead>\n",
       "    <tr style=\"text-align: right;\">\n",
       "      <th></th>\n",
       "      <th>CustomerID</th>\n",
       "      <th>Recency</th>\n",
       "      <th>Frequency</th>\n",
       "      <th>Monetary</th>\n",
       "      <th>R_rank</th>\n",
       "      <th>F_rank</th>\n",
       "      <th>M_rank</th>\n",
       "    </tr>\n",
       "  </thead>\n",
       "  <tbody>\n",
       "    <tr>\n",
       "      <th>0</th>\n",
       "      <td>12346.0</td>\n",
       "      <td>325</td>\n",
       "      <td>1</td>\n",
       "      <td>77183.60</td>\n",
       "      <td>162.5</td>\n",
       "      <td>746.5</td>\n",
       "      <td>4330.0</td>\n",
       "    </tr>\n",
       "    <tr>\n",
       "      <th>1</th>\n",
       "      <td>12347.0</td>\n",
       "      <td>2</td>\n",
       "      <td>7</td>\n",
       "      <td>4310.00</td>\n",
       "      <td>4156.5</td>\n",
       "      <td>3709.5</td>\n",
       "      <td>4004.0</td>\n",
       "    </tr>\n",
       "    <tr>\n",
       "      <th>2</th>\n",
       "      <td>12348.0</td>\n",
       "      <td>75</td>\n",
       "      <td>4</td>\n",
       "      <td>1797.24</td>\n",
       "      <td>1646.0</td>\n",
       "      <td>3028.0</td>\n",
       "      <td>3334.0</td>\n",
       "    </tr>\n",
       "    <tr>\n",
       "      <th>3</th>\n",
       "      <td>12349.0</td>\n",
       "      <td>18</td>\n",
       "      <td>1</td>\n",
       "      <td>1757.55</td>\n",
       "      <td>3209.5</td>\n",
       "      <td>746.5</td>\n",
       "      <td>3306.0</td>\n",
       "    </tr>\n",
       "    <tr>\n",
       "      <th>4</th>\n",
       "      <td>12350.0</td>\n",
       "      <td>310</td>\n",
       "      <td>1</td>\n",
       "      <td>334.40</td>\n",
       "      <td>227.5</td>\n",
       "      <td>746.5</td>\n",
       "      <td>1230.0</td>\n",
       "    </tr>\n",
       "  </tbody>\n",
       "</table>\n",
       "</div>"
      ],
      "text/plain": [
       "   CustomerID  Recency  Frequency  Monetary  R_rank  F_rank  M_rank\n",
       "0     12346.0      325          1  77183.60   162.5   746.5  4330.0\n",
       "1     12347.0        2          7   4310.00  4156.5  3709.5  4004.0\n",
       "2     12348.0       75          4   1797.24  1646.0  3028.0  3334.0\n",
       "3     12349.0       18          1   1757.55  3209.5   746.5  3306.0\n",
       "4     12350.0      310          1    334.40   227.5   746.5  1230.0"
      ]
     },
     "execution_count": 39,
     "metadata": {},
     "output_type": "execute_result"
    }
   ],
   "source": [
    "RFM_score.head()"
   ]
  },
  {
   "cell_type": "code",
   "execution_count": null,
   "id": "addcbb14",
   "metadata": {},
   "outputs": [],
   "source": [
    "# lets calculate the percentile marks"
   ]
  },
  {
   "cell_type": "code",
   "execution_count": 40,
   "id": "09d97d9c",
   "metadata": {},
   "outputs": [],
   "source": [
    "RFM=RFM_score.copy()"
   ]
  },
  {
   "cell_type": "code",
   "execution_count": 41,
   "id": "aee63d1b",
   "metadata": {},
   "outputs": [],
   "source": [
    "RFM[\"R_final\"]=(RFM[\"R_rank\"]/RFM[\"R_rank\"].max())*100\n",
    "RFM[\"F_final\"]=(RFM[\"F_rank\"]/RFM[\"F_rank\"].max())*100\n",
    "RFM[\"M_final\"]=(RFM[\"M_rank\"]/RFM[\"M_rank\"].max())*100"
   ]
  },
  {
   "cell_type": "code",
   "execution_count": 44,
   "id": "e6af7458",
   "metadata": {},
   "outputs": [],
   "source": [
    "#RFM.head()"
   ]
  },
  {
   "cell_type": "code",
   "execution_count": 43,
   "id": "327bfe83",
   "metadata": {},
   "outputs": [],
   "source": [
    "RFM=RFM.round(2)"
   ]
  },
  {
   "cell_type": "code",
   "execution_count": 45,
   "id": "b2405dee",
   "metadata": {},
   "outputs": [
    {
     "data": {
      "text/html": [
       "<div>\n",
       "<style scoped>\n",
       "    .dataframe tbody tr th:only-of-type {\n",
       "        vertical-align: middle;\n",
       "    }\n",
       "\n",
       "    .dataframe tbody tr th {\n",
       "        vertical-align: top;\n",
       "    }\n",
       "\n",
       "    .dataframe thead th {\n",
       "        text-align: right;\n",
       "    }\n",
       "</style>\n",
       "<table border=\"1\" class=\"dataframe\">\n",
       "  <thead>\n",
       "    <tr style=\"text-align: right;\">\n",
       "      <th></th>\n",
       "      <th>CustomerID</th>\n",
       "      <th>Recency</th>\n",
       "      <th>Frequency</th>\n",
       "      <th>Monetary</th>\n",
       "      <th>R_rank</th>\n",
       "      <th>F_rank</th>\n",
       "      <th>M_rank</th>\n",
       "      <th>R_final</th>\n",
       "      <th>F_final</th>\n",
       "      <th>M_final</th>\n",
       "    </tr>\n",
       "  </thead>\n",
       "  <tbody>\n",
       "    <tr>\n",
       "      <th>0</th>\n",
       "      <td>12346.0</td>\n",
       "      <td>325</td>\n",
       "      <td>1</td>\n",
       "      <td>77183.60</td>\n",
       "      <td>162.5</td>\n",
       "      <td>746.5</td>\n",
       "      <td>4330.0</td>\n",
       "      <td>3.76</td>\n",
       "      <td>17.20</td>\n",
       "      <td>99.79</td>\n",
       "    </tr>\n",
       "    <tr>\n",
       "      <th>1</th>\n",
       "      <td>12347.0</td>\n",
       "      <td>2</td>\n",
       "      <td>7</td>\n",
       "      <td>4310.00</td>\n",
       "      <td>4156.5</td>\n",
       "      <td>3709.5</td>\n",
       "      <td>4004.0</td>\n",
       "      <td>96.17</td>\n",
       "      <td>85.49</td>\n",
       "      <td>92.28</td>\n",
       "    </tr>\n",
       "    <tr>\n",
       "      <th>2</th>\n",
       "      <td>12348.0</td>\n",
       "      <td>75</td>\n",
       "      <td>4</td>\n",
       "      <td>1797.24</td>\n",
       "      <td>1646.0</td>\n",
       "      <td>3028.0</td>\n",
       "      <td>3334.0</td>\n",
       "      <td>38.08</td>\n",
       "      <td>69.79</td>\n",
       "      <td>76.84</td>\n",
       "    </tr>\n",
       "    <tr>\n",
       "      <th>3</th>\n",
       "      <td>12349.0</td>\n",
       "      <td>18</td>\n",
       "      <td>1</td>\n",
       "      <td>1757.55</td>\n",
       "      <td>3209.5</td>\n",
       "      <td>746.5</td>\n",
       "      <td>3306.0</td>\n",
       "      <td>74.26</td>\n",
       "      <td>17.20</td>\n",
       "      <td>76.19</td>\n",
       "    </tr>\n",
       "    <tr>\n",
       "      <th>4</th>\n",
       "      <td>12350.0</td>\n",
       "      <td>310</td>\n",
       "      <td>1</td>\n",
       "      <td>334.40</td>\n",
       "      <td>227.5</td>\n",
       "      <td>746.5</td>\n",
       "      <td>1230.0</td>\n",
       "      <td>5.26</td>\n",
       "      <td>17.20</td>\n",
       "      <td>28.35</td>\n",
       "    </tr>\n",
       "  </tbody>\n",
       "</table>\n",
       "</div>"
      ],
      "text/plain": [
       "   CustomerID  Recency  Frequency  Monetary  R_rank  F_rank  M_rank  R_final  \\\n",
       "0     12346.0      325          1  77183.60   162.5   746.5  4330.0     3.76   \n",
       "1     12347.0        2          7   4310.00  4156.5  3709.5  4004.0    96.17   \n",
       "2     12348.0       75          4   1797.24  1646.0  3028.0  3334.0    38.08   \n",
       "3     12349.0       18          1   1757.55  3209.5   746.5  3306.0    74.26   \n",
       "4     12350.0      310          1    334.40   227.5   746.5  1230.0     5.26   \n",
       "\n",
       "   F_final  M_final  \n",
       "0    17.20    99.79  \n",
       "1    85.49    92.28  \n",
       "2    69.79    76.84  \n",
       "3    17.20    76.19  \n",
       "4    17.20    28.35  "
      ]
     },
     "execution_count": 45,
     "metadata": {},
     "output_type": "execute_result"
    }
   ],
   "source": [
    "RFM.head()"
   ]
  },
  {
   "cell_type": "code",
   "execution_count": null,
   "id": "2afaba3c",
   "metadata": {},
   "outputs": [],
   "source": [
    "#final sum of R F M marks"
   ]
  },
  {
   "cell_type": "code",
   "execution_count": 46,
   "id": "f3aec469",
   "metadata": {},
   "outputs": [],
   "source": [
    "RFM[\"RFM_SUM\"]=0.20*RFM[\"R_final\"]+0.30*RFM[\"F_final\"]+0.50*RFM[\"M_final\"]"
   ]
  },
  {
   "cell_type": "code",
   "execution_count": 47,
   "id": "c4b0b511",
   "metadata": {},
   "outputs": [
    {
     "data": {
      "text/html": [
       "<div>\n",
       "<style scoped>\n",
       "    .dataframe tbody tr th:only-of-type {\n",
       "        vertical-align: middle;\n",
       "    }\n",
       "\n",
       "    .dataframe tbody tr th {\n",
       "        vertical-align: top;\n",
       "    }\n",
       "\n",
       "    .dataframe thead th {\n",
       "        text-align: right;\n",
       "    }\n",
       "</style>\n",
       "<table border=\"1\" class=\"dataframe\">\n",
       "  <thead>\n",
       "    <tr style=\"text-align: right;\">\n",
       "      <th></th>\n",
       "      <th>CustomerID</th>\n",
       "      <th>Recency</th>\n",
       "      <th>Frequency</th>\n",
       "      <th>Monetary</th>\n",
       "      <th>R_rank</th>\n",
       "      <th>F_rank</th>\n",
       "      <th>M_rank</th>\n",
       "      <th>R_final</th>\n",
       "      <th>F_final</th>\n",
       "      <th>M_final</th>\n",
       "      <th>RFM_SUM</th>\n",
       "    </tr>\n",
       "  </thead>\n",
       "  <tbody>\n",
       "    <tr>\n",
       "      <th>0</th>\n",
       "      <td>12346.0</td>\n",
       "      <td>325</td>\n",
       "      <td>1</td>\n",
       "      <td>77183.60</td>\n",
       "      <td>162.5</td>\n",
       "      <td>746.5</td>\n",
       "      <td>4330.0</td>\n",
       "      <td>3.76</td>\n",
       "      <td>17.20</td>\n",
       "      <td>99.79</td>\n",
       "      <td>55.807</td>\n",
       "    </tr>\n",
       "    <tr>\n",
       "      <th>1</th>\n",
       "      <td>12347.0</td>\n",
       "      <td>2</td>\n",
       "      <td>7</td>\n",
       "      <td>4310.00</td>\n",
       "      <td>4156.5</td>\n",
       "      <td>3709.5</td>\n",
       "      <td>4004.0</td>\n",
       "      <td>96.17</td>\n",
       "      <td>85.49</td>\n",
       "      <td>92.28</td>\n",
       "      <td>91.021</td>\n",
       "    </tr>\n",
       "    <tr>\n",
       "      <th>2</th>\n",
       "      <td>12348.0</td>\n",
       "      <td>75</td>\n",
       "      <td>4</td>\n",
       "      <td>1797.24</td>\n",
       "      <td>1646.0</td>\n",
       "      <td>3028.0</td>\n",
       "      <td>3334.0</td>\n",
       "      <td>38.08</td>\n",
       "      <td>69.79</td>\n",
       "      <td>76.84</td>\n",
       "      <td>66.973</td>\n",
       "    </tr>\n",
       "    <tr>\n",
       "      <th>3</th>\n",
       "      <td>12349.0</td>\n",
       "      <td>18</td>\n",
       "      <td>1</td>\n",
       "      <td>1757.55</td>\n",
       "      <td>3209.5</td>\n",
       "      <td>746.5</td>\n",
       "      <td>3306.0</td>\n",
       "      <td>74.26</td>\n",
       "      <td>17.20</td>\n",
       "      <td>76.19</td>\n",
       "      <td>58.107</td>\n",
       "    </tr>\n",
       "    <tr>\n",
       "      <th>4</th>\n",
       "      <td>12350.0</td>\n",
       "      <td>310</td>\n",
       "      <td>1</td>\n",
       "      <td>334.40</td>\n",
       "      <td>227.5</td>\n",
       "      <td>746.5</td>\n",
       "      <td>1230.0</td>\n",
       "      <td>5.26</td>\n",
       "      <td>17.20</td>\n",
       "      <td>28.35</td>\n",
       "      <td>20.387</td>\n",
       "    </tr>\n",
       "  </tbody>\n",
       "</table>\n",
       "</div>"
      ],
      "text/plain": [
       "   CustomerID  Recency  Frequency  Monetary  R_rank  F_rank  M_rank  R_final  \\\n",
       "0     12346.0      325          1  77183.60   162.5   746.5  4330.0     3.76   \n",
       "1     12347.0        2          7   4310.00  4156.5  3709.5  4004.0    96.17   \n",
       "2     12348.0       75          4   1797.24  1646.0  3028.0  3334.0    38.08   \n",
       "3     12349.0       18          1   1757.55  3209.5   746.5  3306.0    74.26   \n",
       "4     12350.0      310          1    334.40   227.5   746.5  1230.0     5.26   \n",
       "\n",
       "   F_final  M_final  RFM_SUM  \n",
       "0    17.20    99.79   55.807  \n",
       "1    85.49    92.28   91.021  \n",
       "2    69.79    76.84   66.973  \n",
       "3    17.20    76.19   58.107  \n",
       "4    17.20    28.35   20.387  "
      ]
     },
     "execution_count": 47,
     "metadata": {},
     "output_type": "execute_result"
    }
   ],
   "source": [
    "RFM.head()"
   ]
  },
  {
   "cell_type": "code",
   "execution_count": null,
   "id": "1a3502a1",
   "metadata": {},
   "outputs": [],
   "source": [
    "# loyality categories--silver,gold,diamond,platinum"
   ]
  },
  {
   "cell_type": "code",
   "execution_count": 48,
   "id": "ffb8eaea",
   "metadata": {},
   "outputs": [
    {
     "data": {
      "text/plain": [
       "0.25    27.7225\n",
       "0.50    48.7810\n",
       "0.75    71.4875\n",
       "Name: RFM_SUM, dtype: float64"
      ]
     },
     "execution_count": 48,
     "metadata": {},
     "output_type": "execute_result"
    }
   ],
   "source": [
    "quant100=RFM[\"RFM_SUM\"].quantile(q=[0.25,0.50,0.75])\n",
    "quant100"
   ]
  },
  {
   "cell_type": "code",
   "execution_count": 49,
   "id": "5aba8f2c",
   "metadata": {},
   "outputs": [
    {
     "data": {
      "text/plain": [
       "0.2    24.0874\n",
       "0.6    57.8362\n",
       "0.8    76.0636\n",
       "Name: RFM_SUM, dtype: float64"
      ]
     },
     "execution_count": 49,
     "metadata": {},
     "output_type": "execute_result"
    }
   ],
   "source": [
    "quant200=RFM[\"RFM_SUM\"].quantile(q=[0.20,0.60,0.80])\n",
    "quant200"
   ]
  },
  {
   "cell_type": "code",
   "execution_count": null,
   "id": "d8e4913b",
   "metadata": {},
   "outputs": [],
   "source": [
    "# visualization--emperical cumulative distribution function--- SEABORN"
   ]
  },
  {
   "cell_type": "code",
   "execution_count": 50,
   "id": "70fc6210",
   "metadata": {},
   "outputs": [
    {
     "data": {
      "text/plain": [
       "<Axes: xlabel='RFM_SUM', ylabel='Proportion'>"
      ]
     },
     "execution_count": 50,
     "metadata": {},
     "output_type": "execute_result"
    },
    {
     "data": {
      "image/png": "[encoded data removed]",
      "text/plain": [
       "<Figure size 640x480 with 1 Axes>"
      ]
     },
     "metadata": {},
     "output_type": "display_data"
    }
   ],
   "source": [
    "sns.ecdfplot(data=RFM[\"RFM_SUM\"])"
   ]
  },
  {
   "cell_type": "code",
   "execution_count": 51,
   "id": "3d393493",
   "metadata": {},
   "outputs": [
    {
     "data": {
      "text/plain": [
       "5.371999999999999"
      ]
     },
     "execution_count": 51,
     "metadata": {},
     "output_type": "execute_result"
    }
   ],
   "source": [
    "min(RFM[\"RFM_SUM\"])"
   ]
  },
  {
   "cell_type": "code",
   "execution_count": null,
   "id": "69e42ff4",
   "metadata": {},
   "outputs": [],
   "source": [
    "# LETS ASSIGN THE LOYALITY -- AS PER PERCENTILE"
   ]
  },
  {
   "cell_type": "code",
   "execution_count": 52,
   "id": "8417bcc0",
   "metadata": {},
   "outputs": [],
   "source": [
    "def loyality(x):\n",
    "    if x<=25:\n",
    "        return \"Silver\"\n",
    "    elif x<=55:\n",
    "        return \"Gold\"\n",
    "    elif x<=77:\n",
    "        return \"Diamond\"\n",
    "    else:\n",
    "        return \"Platinum\"\n",
    "    "
   ]
  },
  {
   "cell_type": "code",
   "execution_count": 53,
   "id": "a59b8e79",
   "metadata": {},
   "outputs": [],
   "source": [
    "# use the above function\n",
    "RFM[\"Loyality\"]=RFM[\"RFM_SUM\"].apply(loyality)"
   ]
  },
  {
   "cell_type": "code",
   "execution_count": 54,
   "id": "f4fac54f",
   "metadata": {},
   "outputs": [
    {
     "data": {
      "text/html": [
       "<div>\n",
       "<style scoped>\n",
       "    .dataframe tbody tr th:only-of-type {\n",
       "        vertical-align: middle;\n",
       "    }\n",
       "\n",
       "    .dataframe tbody tr th {\n",
       "        vertical-align: top;\n",
       "    }\n",
       "\n",
       "    .dataframe thead th {\n",
       "        text-align: right;\n",
       "    }\n",
       "</style>\n",
       "<table border=\"1\" class=\"dataframe\">\n",
       "  <thead>\n",
       "    <tr style=\"text-align: right;\">\n",
       "      <th></th>\n",
       "      <th>CustomerID</th>\n",
       "      <th>Recency</th>\n",
       "      <th>Frequency</th>\n",
       "      <th>Monetary</th>\n",
       "      <th>R_rank</th>\n",
       "      <th>F_rank</th>\n",
       "      <th>M_rank</th>\n",
       "      <th>R_final</th>\n",
       "      <th>F_final</th>\n",
       "      <th>M_final</th>\n",
       "      <th>RFM_SUM</th>\n",
       "      <th>Loyality</th>\n",
       "    </tr>\n",
       "  </thead>\n",
       "  <tbody>\n",
       "    <tr>\n",
       "      <th>0</th>\n",
       "      <td>12346.0</td>\n",
       "      <td>325</td>\n",
       "      <td>1</td>\n",
       "      <td>77183.60</td>\n",
       "      <td>162.5</td>\n",
       "      <td>746.5</td>\n",
       "      <td>4330.0</td>\n",
       "      <td>3.76</td>\n",
       "      <td>17.20</td>\n",
       "      <td>99.79</td>\n",
       "      <td>55.807</td>\n",
       "      <td>Diamond</td>\n",
       "    </tr>\n",
       "    <tr>\n",
       "      <th>1</th>\n",
       "      <td>12347.0</td>\n",
       "      <td>2</td>\n",
       "      <td>7</td>\n",
       "      <td>4310.00</td>\n",
       "      <td>4156.5</td>\n",
       "      <td>3709.5</td>\n",
       "      <td>4004.0</td>\n",
       "      <td>96.17</td>\n",
       "      <td>85.49</td>\n",
       "      <td>92.28</td>\n",
       "      <td>91.021</td>\n",
       "      <td>Platinum</td>\n",
       "    </tr>\n",
       "    <tr>\n",
       "      <th>2</th>\n",
       "      <td>12348.0</td>\n",
       "      <td>75</td>\n",
       "      <td>4</td>\n",
       "      <td>1797.24</td>\n",
       "      <td>1646.0</td>\n",
       "      <td>3028.0</td>\n",
       "      <td>3334.0</td>\n",
       "      <td>38.08</td>\n",
       "      <td>69.79</td>\n",
       "      <td>76.84</td>\n",
       "      <td>66.973</td>\n",
       "      <td>Diamond</td>\n",
       "    </tr>\n",
       "    <tr>\n",
       "      <th>3</th>\n",
       "      <td>12349.0</td>\n",
       "      <td>18</td>\n",
       "      <td>1</td>\n",
       "      <td>1757.55</td>\n",
       "      <td>3209.5</td>\n",
       "      <td>746.5</td>\n",
       "      <td>3306.0</td>\n",
       "      <td>74.26</td>\n",
       "      <td>17.20</td>\n",
       "      <td>76.19</td>\n",
       "      <td>58.107</td>\n",
       "      <td>Diamond</td>\n",
       "    </tr>\n",
       "    <tr>\n",
       "      <th>4</th>\n",
       "      <td>12350.0</td>\n",
       "      <td>310</td>\n",
       "      <td>1</td>\n",
       "      <td>334.40</td>\n",
       "      <td>227.5</td>\n",
       "      <td>746.5</td>\n",
       "      <td>1230.0</td>\n",
       "      <td>5.26</td>\n",
       "      <td>17.20</td>\n",
       "      <td>28.35</td>\n",
       "      <td>20.387</td>\n",
       "      <td>Silver</td>\n",
       "    </tr>\n",
       "  </tbody>\n",
       "</table>\n",
       "</div>"
      ],
      "text/plain": [
       "   CustomerID  Recency  Frequency  Monetary  R_rank  F_rank  M_rank  R_final  \\\n",
       "0     12346.0      325          1  77183.60   162.5   746.5  4330.0     3.76   \n",
       "1     12347.0        2          7   4310.00  4156.5  3709.5  4004.0    96.17   \n",
       "2     12348.0       75          4   1797.24  1646.0  3028.0  3334.0    38.08   \n",
       "3     12349.0       18          1   1757.55  3209.5   746.5  3306.0    74.26   \n",
       "4     12350.0      310          1    334.40   227.5   746.5  1230.0     5.26   \n",
       "\n",
       "   F_final  M_final  RFM_SUM  Loyality  \n",
       "0    17.20    99.79   55.807   Diamond  \n",
       "1    85.49    92.28   91.021  Platinum  \n",
       "2    69.79    76.84   66.973   Diamond  \n",
       "3    17.20    76.19   58.107   Diamond  \n",
       "4    17.20    28.35   20.387    Silver  "
      ]
     },
     "execution_count": 54,
     "metadata": {},
     "output_type": "execute_result"
    }
   ],
   "source": [
    "RFM.head()"
   ]
  },
  {
   "cell_type": "code",
   "execution_count": 55,
   "id": "35941c84",
   "metadata": {},
   "outputs": [
    {
     "data": {
      "text/plain": [
       "Gold        1552\n",
       "Diamond     1029\n",
       "Silver       928\n",
       "Platinum     830\n",
       "Name: Loyality, dtype: int64"
      ]
     },
     "execution_count": 55,
     "metadata": {},
     "output_type": "execute_result"
    }
   ],
   "source": [
    "RFM[\"Loyality\"].value_counts()"
   ]
  },
  {
   "cell_type": "code",
   "execution_count": null,
   "id": "cb14a794",
   "metadata": {},
   "outputs": [],
   "source": [
    "# we can do the clustering --- use of algorithm also--- KMEANS Clustering"
   ]
  },
  {
   "cell_type": "code",
   "execution_count": 56,
   "id": "8e9f69c8",
   "metadata": {},
   "outputs": [
    {
     "data": {
      "text/plain": [
       "0    55.807\n",
       "1    91.021\n",
       "Name: RFM_SUM, dtype: float64"
      ]
     },
     "execution_count": 56,
     "metadata": {},
     "output_type": "execute_result"
    }
   ],
   "source": [
    "Newdata=RFM[\"RFM_SUM\"]\n",
    "Newdata.head(2)"
   ]
  },
  {
   "cell_type": "code",
   "execution_count": 57,
   "id": "80d746bf",
   "metadata": {},
   "outputs": [],
   "source": [
    "Newdata=pd.DataFrame(Newdata)"
   ]
  },
  {
   "cell_type": "code",
   "execution_count": 58,
   "id": "75dfc222",
   "metadata": {},
   "outputs": [
    {
     "data": {
      "text/html": [
       "<div>\n",
       "<style scoped>\n",
       "    .dataframe tbody tr th:only-of-type {\n",
       "        vertical-align: middle;\n",
       "    }\n",
       "\n",
       "    .dataframe tbody tr th {\n",
       "        vertical-align: top;\n",
       "    }\n",
       "\n",
       "    .dataframe thead th {\n",
       "        text-align: right;\n",
       "    }\n",
       "</style>\n",
       "<table border=\"1\" class=\"dataframe\">\n",
       "  <thead>\n",
       "    <tr style=\"text-align: right;\">\n",
       "      <th></th>\n",
       "      <th>RFM_SUM</th>\n",
       "    </tr>\n",
       "  </thead>\n",
       "  <tbody>\n",
       "    <tr>\n",
       "      <th>0</th>\n",
       "      <td>55.807</td>\n",
       "    </tr>\n",
       "    <tr>\n",
       "      <th>1</th>\n",
       "      <td>91.021</td>\n",
       "    </tr>\n",
       "  </tbody>\n",
       "</table>\n",
       "</div>"
      ],
      "text/plain": [
       "   RFM_SUM\n",
       "0   55.807\n",
       "1   91.021"
      ]
     },
     "execution_count": 58,
     "metadata": {},
     "output_type": "execute_result"
    }
   ],
   "source": [
    "Newdata.head(2)"
   ]
  },
  {
   "cell_type": "code",
   "execution_count": 59,
   "id": "8f3328b1",
   "metadata": {},
   "outputs": [],
   "source": [
    "from sklearn.cluster import KMeans"
   ]
  },
  {
   "cell_type": "code",
   "execution_count": 61,
   "id": "754887cc",
   "metadata": {},
   "outputs": [
    {
     "data": {
      "text/plain": [
       "array([1, 3, 1, ..., 2, 3, 1])"
      ]
     },
     "execution_count": 61,
     "metadata": {},
     "output_type": "execute_result"
    }
   ],
   "source": [
    "kmeans1=KMeans(max_iter=200,random_state=100,n_clusters=4)\n",
    "y_means=kmeans1.fit_predict(Newdata)\n",
    "y_means"
   ]
  },
  {
   "cell_type": "code",
   "execution_count": 63,
   "id": "eb4bb2f4",
   "metadata": {},
   "outputs": [
    {
     "data": {
      "text/html": [
       "<div>\n",
       "<style scoped>\n",
       "    .dataframe tbody tr th:only-of-type {\n",
       "        vertical-align: middle;\n",
       "    }\n",
       "\n",
       "    .dataframe tbody tr th {\n",
       "        vertical-align: top;\n",
       "    }\n",
       "\n",
       "    .dataframe thead th {\n",
       "        text-align: right;\n",
       "    }\n",
       "</style>\n",
       "<table border=\"1\" class=\"dataframe\">\n",
       "  <thead>\n",
       "    <tr style=\"text-align: right;\">\n",
       "      <th></th>\n",
       "      <th>CustomerID</th>\n",
       "      <th>Recency</th>\n",
       "      <th>Frequency</th>\n",
       "      <th>Monetary</th>\n",
       "      <th>R_rank</th>\n",
       "      <th>F_rank</th>\n",
       "      <th>M_rank</th>\n",
       "      <th>R_final</th>\n",
       "      <th>F_final</th>\n",
       "      <th>M_final</th>\n",
       "      <th>RFM_SUM</th>\n",
       "      <th>Loyality</th>\n",
       "      <th>Cluster</th>\n",
       "    </tr>\n",
       "  </thead>\n",
       "  <tbody>\n",
       "    <tr>\n",
       "      <th>0</th>\n",
       "      <td>12346.0</td>\n",
       "      <td>325</td>\n",
       "      <td>1</td>\n",
       "      <td>77183.60</td>\n",
       "      <td>162.5</td>\n",
       "      <td>746.5</td>\n",
       "      <td>4330.0</td>\n",
       "      <td>3.76</td>\n",
       "      <td>17.20</td>\n",
       "      <td>99.79</td>\n",
       "      <td>55.807</td>\n",
       "      <td>Diamond</td>\n",
       "      <td>1</td>\n",
       "    </tr>\n",
       "    <tr>\n",
       "      <th>1</th>\n",
       "      <td>12347.0</td>\n",
       "      <td>2</td>\n",
       "      <td>7</td>\n",
       "      <td>4310.00</td>\n",
       "      <td>4156.5</td>\n",
       "      <td>3709.5</td>\n",
       "      <td>4004.0</td>\n",
       "      <td>96.17</td>\n",
       "      <td>85.49</td>\n",
       "      <td>92.28</td>\n",
       "      <td>91.021</td>\n",
       "      <td>Platinum</td>\n",
       "      <td>3</td>\n",
       "    </tr>\n",
       "    <tr>\n",
       "      <th>2</th>\n",
       "      <td>12348.0</td>\n",
       "      <td>75</td>\n",
       "      <td>4</td>\n",
       "      <td>1797.24</td>\n",
       "      <td>1646.0</td>\n",
       "      <td>3028.0</td>\n",
       "      <td>3334.0</td>\n",
       "      <td>38.08</td>\n",
       "      <td>69.79</td>\n",
       "      <td>76.84</td>\n",
       "      <td>66.973</td>\n",
       "      <td>Diamond</td>\n",
       "      <td>1</td>\n",
       "    </tr>\n",
       "    <tr>\n",
       "      <th>3</th>\n",
       "      <td>12349.0</td>\n",
       "      <td>18</td>\n",
       "      <td>1</td>\n",
       "      <td>1757.55</td>\n",
       "      <td>3209.5</td>\n",
       "      <td>746.5</td>\n",
       "      <td>3306.0</td>\n",
       "      <td>74.26</td>\n",
       "      <td>17.20</td>\n",
       "      <td>76.19</td>\n",
       "      <td>58.107</td>\n",
       "      <td>Diamond</td>\n",
       "      <td>1</td>\n",
       "    </tr>\n",
       "    <tr>\n",
       "      <th>4</th>\n",
       "      <td>12350.0</td>\n",
       "      <td>310</td>\n",
       "      <td>1</td>\n",
       "      <td>334.40</td>\n",
       "      <td>227.5</td>\n",
       "      <td>746.5</td>\n",
       "      <td>1230.0</td>\n",
       "      <td>5.26</td>\n",
       "      <td>17.20</td>\n",
       "      <td>28.35</td>\n",
       "      <td>20.387</td>\n",
       "      <td>Silver</td>\n",
       "      <td>0</td>\n",
       "    </tr>\n",
       "  </tbody>\n",
       "</table>\n",
       "</div>"
      ],
      "text/plain": [
       "   CustomerID  Recency  Frequency  Monetary  R_rank  F_rank  M_rank  R_final  \\\n",
       "0     12346.0      325          1  77183.60   162.5   746.5  4330.0     3.76   \n",
       "1     12347.0        2          7   4310.00  4156.5  3709.5  4004.0    96.17   \n",
       "2     12348.0       75          4   1797.24  1646.0  3028.0  3334.0    38.08   \n",
       "3     12349.0       18          1   1757.55  3209.5   746.5  3306.0    74.26   \n",
       "4     12350.0      310          1    334.40   227.5   746.5  1230.0     5.26   \n",
       "\n",
       "   F_final  M_final  RFM_SUM  Loyality  Cluster  \n",
       "0    17.20    99.79   55.807   Diamond        1  \n",
       "1    85.49    92.28   91.021  Platinum        3  \n",
       "2    69.79    76.84   66.973   Diamond        1  \n",
       "3    17.20    76.19   58.107   Diamond        1  \n",
       "4    17.20    28.35   20.387    Silver        0  "
      ]
     },
     "execution_count": 63,
     "metadata": {},
     "output_type": "execute_result"
    }
   ],
   "source": [
    "RFM[\"Cluster\"]=kmeans1.labels_\n",
    "RFM.head()"
   ]
  },
  {
   "cell_type": "code",
   "execution_count": 64,
   "id": "377dc9dc",
   "metadata": {},
   "outputs": [
    {
     "data": {
      "text/plain": [
       "0    1235\n",
       "2    1122\n",
       "1    1030\n",
       "3     952\n",
       "Name: Cluster, dtype: int64"
      ]
     },
     "execution_count": 64,
     "metadata": {},
     "output_type": "execute_result"
    }
   ],
   "source": [
    "RFM[\"Cluster\"].value_counts()"
   ]
  },
  {
   "cell_type": "code",
   "execution_count": 65,
   "id": "a5ec6f52",
   "metadata": {},
   "outputs": [
    {
     "data": {
      "text/plain": [
       "Gold        1552\n",
       "Diamond     1029\n",
       "Silver       928\n",
       "Platinum     830\n",
       "Name: Loyality, dtype: int64"
      ]
     },
     "execution_count": 65,
     "metadata": {},
     "output_type": "execute_result"
    }
   ],
   "source": [
    "RFM[\"Loyality\"].value_counts()"
   ]
  },
  {
   "cell_type": "code",
   "execution_count": null,
   "id": "0202d580",
   "metadata": {},
   "outputs": [],
   "source": []
  },
  {
   "cell_type": "code",
   "execution_count": null,
   "id": "34405781",
   "metadata": {},
   "outputs": [],
   "source": []
  },
  {
   "cell_type": "code",
   "execution_count": null,
   "id": "9c844ff7",
   "metadata": {},
   "outputs": [],
   "source": []
  },
  {
   "cell_type": "code",
   "execution_count": null,
   "id": "a1979dde",
   "metadata": {},
   "outputs": [],
   "source": []
  },
  {
   "cell_type": "code",
   "execution_count": null,
   "id": "7fdb2f65",
   "metadata": {},
   "outputs": [],
   "source": []
  },
  {
   "cell_type": "code",
   "execution_count": null,
   "id": "c7442c5b",
   "metadata": {},
   "outputs": [],
   "source": []
  },
  {
   "cell_type": "code",
   "execution_count": null,
   "id": "a9105293",
   "metadata": {},
   "outputs": [],
   "source": []
  },
  {
   "cell_type": "code",
   "execution_count": null,
   "id": "f7f8a36b",
   "metadata": {},
   "outputs": [],
   "source": []
  },
  {
   "cell_type": "code",
   "execution_count": null,
   "id": "8434140d",
   "metadata": {},
   "outputs": [],
   "source": []
  }
 ],
 "metadata": {
  "kernelspec": {
   "display_name": "Python 3 (ipykernel)",
   "language": "python",
   "name": "python3"
  },
  "language_info": {
   "codemirror_mode": {
    "name": "ipython",
    "version": 3
   },
   "file_extension": ".py",
   "mimetype": "text/x-python",
   "name": "python",
   "nbconvert_exporter": "python",
   "pygments_lexer": "ipython3",
   "version": "3.10.9"
  }
 },
 "nbformat": 4,
 "nbformat_minor": 5
}
